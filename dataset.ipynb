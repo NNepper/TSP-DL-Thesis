{
 "cells": [
  {
   "cell_type": "markdown",
   "source": [
    "# Dataset generation"
   ],
   "metadata": {
    "collapsed": false
   }
  },
  {
   "cell_type": "markdown",
   "source": [
    "## 1. Import"
   ],
   "metadata": {
    "collapsed": false
   }
  },
  {
   "cell_type": "code",
   "execution_count": 31,
   "outputs": [],
   "source": [
    "import numpy as np\n",
    "import networkx as nx\n",
    "from scipy.spatial.distance import cdist\n",
    "import matplotlib.pyplot as plt\n",
    "from ortools.constraint_solver import pywrapcp, routing_enums_pb2"
   ],
   "metadata": {
    "collapsed": false
   }
  },
  {
   "cell_type": "markdown",
   "source": [
    "## 2. Utils"
   ],
   "metadata": {
    "collapsed": false
   }
  },
  {
   "cell_type": "code",
   "execution_count": 32,
   "outputs": [],
   "source": [
    "def draw(graph, ax):\n",
    "    \"\"\"\n",
    "    Draws the graph as a matplotlib plot.\n",
    "    Depots are colored in red. Edges that have been\n",
    "    traveresed\n",
    "    \"\"\"\n",
    "\n",
    "    # draw nodes according to color and position attribute\n",
    "    pos = nx.get_node_attributes(graph, \"coordinates\")\n",
    "    nx.draw_networkx_nodes(\n",
    "        graph, pos, ax=ax, node_size=100\n",
    "    )\n",
    "\n",
    "\n",
    "    labels_pos = {k: (v + np.array([0, 0.03])) for k, v in pos.items()}\n",
    "    nx.draw_networkx_labels(\n",
    "        G, labels_pos, ax=ax\n",
    "    )\n",
    "\n",
    "def generate_graph(num_nodes):\n",
    "    G = nx.complete_graph(n)\n",
    "    node_position = {\n",
    "        i: coordinates for i, coordinates in enumerate(np.random.rand(num_nodes, 2))\n",
    "    }\n",
    "    nx.set_node_attributes(G, node_position, \"coordinates\")\n",
    "\n",
    "    return G"
   ],
   "metadata": {
    "collapsed": false
   }
  },
  {
   "cell_type": "markdown",
   "source": [
    "## 3. Generating Distance Matrices"
   ],
   "metadata": {
    "collapsed": false
   }
  },
  {
   "cell_type": "code",
   "execution_count": 33,
   "outputs": [],
   "source": [
    "n = 10\n",
    "G = nx.complete_graph(n)\n",
    "node_position = {\n",
    "    i: coordinates for i, coordinates in enumerate(np.random.rand(n, 2))\n",
    "}\n",
    "nx.set_node_attributes(G, node_position, \"coordinates\")\n",
    "\n",
    "positions = np.array([node_position[index] for index in range(n)])\n",
    "distances = 10000*cdist(positions, positions)"
   ],
   "metadata": {
    "collapsed": false
   }
  },
  {
   "cell_type": "code",
   "execution_count": 34,
   "outputs": [],
   "source": [
    "#X = X.reshape((N,M*M))"
   ],
   "metadata": {
    "collapsed": false
   }
  },
  {
   "cell_type": "markdown",
   "source": [
    "## 4. Building Solutions"
   ],
   "metadata": {
    "collapsed": false
   }
  },
  {
   "cell_type": "code",
   "execution_count": 44,
   "outputs": [
    {
     "name": "stdout",
     "output_type": "stream",
     "text": [
      "Total distance: 0 miles\n",
      "\n",
      "Route:\n",
      "\n",
      "0 -> 9 -> 5 -> 4 -> 2 -> 7 -> 6 -> 3 -> 8 -> 1 -> 0\n"
     ]
    }
   ],
   "source": [
    "from ortools.constraint_solver import pywrapcp\n",
    "from ortools.constraint_solver import routing_enums_pb2\n",
    "\n",
    "# Distance callback\n",
    "\n",
    "\n",
    "def create_distance_callback(dist_matrix):\n",
    "    # Create a callback to calculate distances between cities.\n",
    "\n",
    "    def distance_callback(from_node, to_node):\n",
    "        return int(dist_matrix[from_node][to_node])\n",
    "\n",
    "    return distance_callback\n",
    "\n",
    "\n",
    "def main():\n",
    "    # Distance matrix\n",
    "    dist_matrix = distances\n",
    "\n",
    "    tsp_size = 10\n",
    "    num_vehicles = 1\n",
    "    depot = 0\n",
    "\n",
    "    # Create routing model\n",
    "    if tsp_size > 0:\n",
    "        manager = pywrapcp.RoutingIndexManager(tsp_size, num_vehicles, depot)\n",
    "        routing = pywrapcp.RoutingModel(manager)\n",
    "        search_parameters = pywrapcp.DefaultRoutingSearchParameters()\n",
    "        search_parameters.first_solution_strategy = (\n",
    "        routing_enums_pb2.FirstSolutionStrategy.PATH_CHEAPEST_ARC)\n",
    "        # Create the distance callback.\n",
    "        dist_callback = create_distance_callback(dist_matrix)\n",
    "        transit_callback_index = routing.RegisterTransitCallback(dist_callback)\n",
    "        routing.SetArcCostEvaluatorOfAllVehicles(transit_callback_index)\n",
    "        # Solve the problem.\n",
    "        assignment = routing.SolveWithParameters(search_parameters)\n",
    "        if assignment:\n",
    "            # Solution distance.\n",
    "            print(\"Total distance: \" +\n",
    "                  str(assignment.ObjectiveValue()) + \" miles\\n\")\n",
    "            # Display the solution.\n",
    "            # Only one route here; otherwise iterate from 0 to routing.vehicles() - 1\n",
    "            route_number = 0\n",
    "            # Index of the variable for the starting node.\n",
    "            index = routing.Start(route_number)\n",
    "            route = ''\n",
    "            while not routing.IsEnd(index):\n",
    "                # Convert variable indices to node indices in the displayed route.\n",
    "                route += str(index) + ' -> '\n",
    "                index = assignment.Value(routing.NextVar(index))\n",
    "            route += str(depot)\n",
    "            print(\"Route:\\n\\n\" + route)\n",
    "        else:\n",
    "            print('No solution found.')\n",
    "    else:\n",
    "        print('Specify an instance greater than 0.')\n",
    "\n",
    "main()"
   ],
   "metadata": {
    "collapsed": false
   }
  },
  {
   "cell_type": "code",
   "execution_count": 36,
   "outputs": [
    {
     "data": {
      "text/plain": "array([[   0.        , 5003.90547807, 4800.07006747, 2584.29571414,\n        4536.83007624, 1768.31652438, 7667.43663547, 5172.83314246,\n        4576.10015857, 3502.04148353],\n       [5003.90547807,    0.        , 3682.45045361, 6705.66400333,\n        3526.06219121, 3411.31023709, 7635.54246975, 5049.72731036,\n        1307.52566293, 4117.48183483],\n       [4800.07006747, 3682.45045361,    0.        , 4902.37365658,\n         276.2938446 , 3249.01685902, 3994.90231102, 1387.01319138,\n        2375.51048865, 1497.24329509],\n       [2584.29571414, 6705.66400333, 4902.37365658,    0.        ,\n        4722.1366273 , 3372.51736391, 6334.37579875, 4540.37274867,\n        5842.08731921, 3416.10179752],\n       [4536.83007624, 3526.06219121,  276.2938446 , 4722.1366273 ,\n           0.        , 2973.79509615, 4205.02764169, 1524.15393527,\n        2220.13095924, 1306.03774504],\n       [1768.31652438, 3411.31023709, 3249.01685902, 3372.51736391,\n        2973.79509615,    0.        , 6659.92510644, 3946.55483009,\n        2824.04107451, 2252.07743718],\n       [7667.43663547, 7635.54246975, 3994.90231102, 6334.37579875,\n        4205.02764169, 6659.92510644,    0.        , 2776.07882117,\n        6341.89437097, 4409.9224097 ],\n       [5172.83314246, 5049.72731036, 1387.01319138, 4540.37274867,\n        1524.15393527, 3946.55483009, 2776.07882117,    0.        ,\n        3742.99731423, 1710.99607625],\n       [4576.10015857, 1307.52566293, 2375.51048865, 5842.08731921,\n        2220.13095924, 2824.04107451, 6341.89437097, 3742.99731423,\n           0.        , 2921.2891161 ],\n       [3502.04148353, 4117.48183483, 1497.24329509, 3416.10179752,\n        1306.03774504, 2252.07743718, 4409.9224097 , 1710.99607625,\n        2921.2891161 ,    0.        ]])"
     },
     "execution_count": 36,
     "metadata": {},
     "output_type": "execute_result"
    }
   ],
   "source": [
    "distances"
   ],
   "metadata": {
    "collapsed": false
   }
  },
  {
   "cell_type": "code",
   "execution_count": 37,
   "outputs": [
    {
     "data": {
      "text/plain": "<Figure size 640x480 with 1 Axes>",
      "image/png": "[encoded data removed]"
     },
     "metadata": {},
     "output_type": "display_data"
    }
   ],
   "source": [
    "fig, ax = plt.subplots()\n",
    "draw(G, ax)"
   ],
   "metadata": {
    "collapsed": false
   }
  },
  {
   "cell_type": "code",
   "execution_count": 37,
   "outputs": [],
   "source": [],
   "metadata": {
    "collapsed": false
   }
  }
 ],
 "metadata": {
  "kernelspec": {
   "display_name": "Python 3",
   "language": "python",
   "name": "python3"
  },
  "language_info": {
   "codemirror_mode": {
    "name": "ipython",
    "version": 2
   },
   "file_extension": ".py",
   "mimetype": "text/x-python",
   "name": "python",
   "nbconvert_exporter": "python",
   "pygments_lexer": "ipython2",
   "version": "2.7.6"
  }
 },
 "nbformat": 4,
 "nbformat_minor": 0
}
