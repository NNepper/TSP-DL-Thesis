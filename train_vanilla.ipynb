{
 "cells": [
  {
   "cell_type": "markdown",
   "source": [
    "# Travelling Salesman Problem <br /> Vanilla Policy Gradient"
   ],
   "metadata": {
    "collapsed": false
   }
  },
  {
   "cell_type": "code",
   "execution_count": null,
   "outputs": [],
   "source": [
    "import torch\n",
    "import torch.nn as nn\n",
    "from ray import tune, air\n",
    "from ray.tune.search.optuna import OptunaSearch\n",
    "\n",
    "from agents import AgentVanilla\n",
    "from gym_vrp.envs import TSPEnv\n",
    "from model import PolicyFeedForward"
   ],
   "metadata": {
    "collapsed": false
   }
  },
  {
   "cell_type": "code",
   "execution_count": null,
   "outputs": [],
   "source": [
    "def train_ray(config):\n",
    "    config[\"tune\"] = True\n",
    "    config[\"directory\"] = directory\n",
    "    net = PolicyFeedForward(config)\n",
    "\n",
    "    agent = AgentVanilla(\n",
    "        model=net,\n",
    "        config=config\n",
    "    )\n",
    "\n",
    "    device = \"cpu\"\n",
    "    if torch.cuda.is_available():\n",
    "        device = \"cuda:0\"\n",
    "        if torch.cuda.device_count() > 1:\n",
    "            net = nn.DataParallel(net)\n",
    "    net.to(device)\n",
    "\n",
    "    _, length, rewards = agent.train(env, 5000)"
   ],
   "metadata": {
    "collapsed": false
   }
  },
  {
   "cell_type": "code",
   "execution_count": null,
   "outputs": [],
   "source": [
    "# Environment\n",
    "directory = './result'\n",
    "env = TSPEnv(\n",
    "    num_nodes=5,\n",
    "    batch_size=1,\n",
    "    num_draw=1,\n",
    "    seed=69\n",
    ")\n",
    "\n",
    "search_space_config = {\n",
    "    \"num_nodes\": 5,\n",
    "    \"layer_size\": tune.choice([64, 128, 256, 512]),\n",
    "    \"layer_number\": tune.choice([2, 4, 8, 16]),\n",
    "    \"gamma\": 1,\n",
    "    \"lr\": tune.loguniform(1e-8, 1e-3),\n",
    "    \"seed\": 69,\n",
    "    \"cuda\": False\n",
    "}"
   ],
   "metadata": {
    "collapsed": false
   }
  },
  {
   "cell_type": "markdown",
   "source": [
    "## Hyperparameters tuning"
   ],
   "metadata": {
    "collapsed": false
   }
  },
  {
   "cell_type": "code",
   "execution_count": null,
   "outputs": [],
   "source": [
    "search_algo = OptunaSearch()\n",
    "trainable_with_resources = tune.with_resources(train_ray, {\"cpu\": 2})\n",
    "tuner = tune.Tuner(\n",
    "    trainable_with_resources,\n",
    "    tune_config=tune.TuneConfig(\n",
    "        search_alg=search_algo,\n",
    "        metric=\"rewards\",\n",
    "        mode=\"max\",\n",
    "        num_samples=50,\n",
    "    ),\n",
    "    run_config=air.RunConfig(log_to_file=True),\n",
    "    param_space=search_space_config\n",
    ")\n",
    "results = tuner.fit()\n",
    "best_config = results.get_best_result(metric=\"rewards\", mode=\"max\").config"
   ],
   "metadata": {
    "collapsed": false
   }
  },
  {
   "cell_type": "markdown",
   "source": [
    "## Best model training"
   ],
   "metadata": {
    "collapsed": false
   }
  },
  {
   "cell_type": "code",
   "execution_count": null,
   "outputs": [],
   "source": [
    "# Train with best Parameters\n",
    "net = PolicyFeedForward(config=best_config)\n",
    "agent = AgentVanilla(\n",
    "    model=net,\n",
    "    config=best_config\n",
    ")\n",
    "_, length, rewards = agent.train(env, 5000)\n",
    "\n",
    "# Save to dir\n",
    "agent.save()"
   ],
   "metadata": {
    "collapsed": false
   }
  },
  {
   "cell_type": "markdown",
   "source": [
    "## Best model evaluation"
   ],
   "metadata": {
    "collapsed": false
   }
  },
  {
   "cell_type": "code",
   "execution_count": null,
   "outputs": [],
   "source": [],
   "metadata": {
    "collapsed": false
   }
  }
 ],
 "metadata": {
  "kernelspec": {
   "display_name": "Python 3",
   "language": "python",
   "name": "python3"
  },
  "language_info": {
   "codemirror_mode": {
    "name": "ipython",
    "version": 2
   },
   "file_extension": ".py",
   "mimetype": "text/x-python",
   "name": "python",
   "nbconvert_exporter": "python",
   "pygments_lexer": "ipython2",
   "version": "2.7.6"
  }
 },
 "nbformat": 4,
 "nbformat_minor": 0
}
