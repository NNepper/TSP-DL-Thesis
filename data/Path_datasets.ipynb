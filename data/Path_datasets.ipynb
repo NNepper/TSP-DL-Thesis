{
 "cells": [
  {
   "cell_type": "markdown",
   "source": [
    "# Shortest-Path Problem datasets"
   ],
   "metadata": {
    "collapsed": false
   }
  },
  {
   "cell_type": "markdown",
   "source": [
    "## 1. Import"
   ],
   "metadata": {
    "collapsed": false
   }
  },
  {
   "cell_type": "code",
   "execution_count": 16,
   "outputs": [],
   "source": [
    "import numpy as np\n",
    "import networkx as nx\n",
    "import itertools as iter\n",
    "from scipy.spatial.distance import cdist\n",
    "\n",
    "from torch_geometric.utils.convert import from_networkx\n",
    "\n",
    "import pickle"
   ],
   "metadata": {
    "collapsed": false,
    "ExecuteTime": {
     "start_time": "2023-04-02T19:37:47.857683Z",
     "end_time": "2023-04-02T19:37:48.040661Z"
    }
   }
  },
  {
   "cell_type": "markdown",
   "source": [
    "## 2. Utils"
   ],
   "metadata": {
    "collapsed": false
   }
  },
  {
   "cell_type": "code",
   "execution_count": 17,
   "outputs": [],
   "source": [
    "def draw(graph, ax):\n",
    "    \"\"\"\n",
    "    Draws the graph as a matplotlib plot.\n",
    "    Depots are colored in red. Edges that have been\n",
    "    traveresed\n",
    "    \"\"\"\n",
    "\n",
    "    # draw nodes according to color and position attribute\n",
    "    pos = nx.get_node_attributes(graph, \"coordinates\")\n",
    "    nx.draw_networkx_nodes(\n",
    "        graph, pos, ax=ax, node_size=100\n",
    "    )\n",
    "    labels_pos = {k: (v + np.array([0, 0.03])) for k, v in pos.items()}\n",
    "    nx.draw_networkx_labels(\n",
    "        graph, labels_pos, ax=ax\n",
    "    )\n",
    "\n",
    "    # draw edges\n",
    "    nx.draw_networkx_edges(graph, pos)"
   ],
   "metadata": {
    "collapsed": false,
    "ExecuteTime": {
     "start_time": "2023-04-02T19:37:47.882150Z",
     "end_time": "2023-04-02T19:37:48.112501Z"
    }
   }
  },
  {
   "cell_type": "markdown",
   "source": [
    "## 3. Generating Distance Matrices"
   ],
   "metadata": {
    "collapsed": false
   }
  },
  {
   "cell_type": "code",
   "execution_count": 18,
   "outputs": [
    {
     "name": "stdout",
     "output_type": "stream",
     "text": [
      "1225\n"
     ]
    }
   ],
   "source": [
    "def build_graph(num_nodes):\n",
    "    G = nx.empty_graph(num_nodes, create_using=nx.Graph())\n",
    "    node_position = {\n",
    "        i: coordinates for i, coordinates in enumerate(np.random.rand(num_nodes, 2))\n",
    "    }\n",
    "    nx.set_node_attributes(G, node_position, \"coordinates\")\n",
    "\n",
    "    positions = np.array([node_position[index] for index in range(num_nodes)])\n",
    "    distances = cdist(positions, positions)\n",
    "\n",
    "    edges = []\n",
    "    for i in range(num_nodes):\n",
    "        for j in range(num_nodes):\n",
    "            if i != j:\n",
    "                edges.append((i,j))\n",
    "    G.add_edges_from(edges)\n",
    "\n",
    "    # add distance as edge attribute\n",
    "    edge_distance_feature = {(u,v):distances[u,v] for u in range(num_nodes) for v in range(num_nodes) if u != v}\n",
    "    nx.set_edge_attributes(G, edge_distance_feature, 'dist')\n",
    "    return G, distances\n",
    "\n",
    "G, distances = build_graph(50)\n",
    "print(G.number_of_edges())"
   ],
   "metadata": {
    "collapsed": false,
    "ExecuteTime": {
     "start_time": "2023-04-02T19:37:48.007921Z",
     "end_time": "2023-04-02T19:37:48.137980Z"
    }
   }
  },
  {
   "cell_type": "markdown",
   "source": [
    "## 4. Generate dataset"
   ],
   "metadata": {
    "collapsed": false
   }
  },
  {
   "cell_type": "code",
   "execution_count": 27,
   "outputs": [],
   "source": [
    "def get_routes_length(routes, dist_mat):\n",
    "    \"\"\"\n",
    "    Returns the length of the routes\n",
    "    \"\"\"\n",
    "    length = 0\n",
    "    for route in routes:\n",
    "        for i in range(len(route)-1):\n",
    "            length += dist_mat[route[i], route[i+1]]\n",
    "    return length\n",
    "\n",
    "def get_all_shortest_paths(G):\n",
    "    \"\"\"\n",
    "    Returns all shortest paths in the graph\n",
    "    \"\"\"\n",
    "    paths = {}\n",
    "    for i in range(G.number_of_nodes()):\n",
    "        for j in range(G.number_of_nodes()):\n",
    "            if i != j:\n",
    "                paths[(i,j)] = nx.shortest_path(G, i, j, weight='dist')\n",
    "    return paths\n",
    "\n",
    "def build_dataset(size, num_nodes):\n",
    "    graphs = []\n",
    "    targets = []\n",
    "    opts = []\n",
    "    for i in range(size):\n",
    "        if i % 10000 == 0:\n",
    "            print(f'Building graph {i}/{size}')\n",
    "        graph, dist_mat = build_graph(num_nodes)\n",
    "        graph_pyg = from_networkx(graph, group_node_attrs=['coordinates'], group_edge_attrs=['dist'])\n",
    "        opt_routes = get_all_shortest_paths(graph)\n",
    "        opt_length = get_routes_length(opt_routes, dist_mat)\n",
    "        # Assign optimum length\n",
    "        graph_pyg.y = opt_length\n",
    "\n",
    "        # Saving\n",
    "        graphs.append(graph_pyg)\n",
    "        targets.append(opt_routes)\n",
    "        opts.append(opt_length)\n",
    "    return graphs, targets, opts"
   ],
   "metadata": {
    "collapsed": false,
    "ExecuteTime": {
     "start_time": "2023-04-02T19:50:30.188494Z",
     "end_time": "2023-04-02T19:50:30.225088Z"
    }
   }
  },
  {
   "cell_type": "code",
   "execution_count": 29,
   "outputs": [
    {
     "name": "stdout",
     "output_type": "stream",
     "text": [
      "Building graph 0/10000\n"
     ]
    }
   ],
   "source": [
    "data_20_train = build_dataset(10000,20)\n",
    "with open('PATH_dataset_20_train.pkl', 'wb') as file:\n",
    "    pickle.dump(data_20_train, file)"
   ],
   "metadata": {
    "collapsed": false,
    "ExecuteTime": {
     "start_time": "2023-04-02T20:12:50.745315Z",
     "end_time": "2023-04-02T20:25:06.735367Z"
    }
   }
  },
  {
   "cell_type": "code",
   "execution_count": null,
   "outputs": [],
   "source": [
    "data_20_test = build_dataset(100,20)\n",
    "with open('PATH_dataset_20_test.pkl', 'wb') as file:\n",
    "    pickle.dump(data_20_test, file)"
   ],
   "metadata": {
    "collapsed": false
   }
  },
  {
   "cell_type": "code",
   "execution_count": null,
   "outputs": [
    {
     "name": "stdout",
     "output_type": "stream",
     "text": [
      "Building graph 0/10000\n"
     ]
    }
   ],
   "source": [
    "data_50_train = build_dataset(10000,50)\n",
    "with open('PATH_dataset_50_train.pkl', 'wb') as file:\n",
    "    pickle.dump(data_50_train, file)"
   ],
   "metadata": {
    "collapsed": false,
    "pycharm": {
     "is_executing": true
    }
   }
  },
  {
   "cell_type": "code",
   "execution_count": null,
   "outputs": [],
   "source": [
    " data_50_test = build_dataset(100,50)\n",
    "with open('PATH_dataset_50_test.pkl', 'wb') as file:\n",
    "    pickle.dump(data_50_test, file)"
   ],
   "metadata": {
    "collapsed": false
   }
  },
  {
   "cell_type": "code",
   "execution_count": null,
   "outputs": [],
   "source": [],
   "metadata": {
    "collapsed": false
   }
  }
 ],
 "metadata": {
  "kernelspec": {
   "display_name": "Python 3",
   "language": "python",
   "name": "python3"
  },
  "language_info": {
   "codemirror_mode": {
    "name": "ipython",
    "version": 2
   },
   "file_extension": ".py",
   "mimetype": "text/x-python",
   "name": "python",
   "nbconvert_exporter": "python",
   "pygments_lexer": "ipython2",
   "version": "2.7.6"
  }
 },
 "nbformat": 4,
 "nbformat_minor": 0
}
