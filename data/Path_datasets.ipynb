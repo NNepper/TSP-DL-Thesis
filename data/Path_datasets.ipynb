{
 "cells": [
  {
   "cell_type": "markdown",
   "source": [
    "# Shortest-Path Problem datasets"
   ],
   "metadata": {
    "collapsed": false
   }
  },
  {
   "cell_type": "markdown",
   "source": [
    "## 1. Import"
   ],
   "metadata": {
    "collapsed": false
   }
  },
  {
   "cell_type": "code",
   "execution_count": 89,
   "outputs": [],
   "source": [
    "import numpy as np\n",
    "import networkx as nx\n",
    "import itertools as iter\n",
    "from scipy.spatial.distance import cdist\n",
    "\n",
    "from torch_geometric.utils.convert import from_networkx\n",
    "\n",
    "import random\n",
    "import pickle"
   ],
   "metadata": {
    "collapsed": false,
    "ExecuteTime": {
     "start_time": "2023-04-03T14:22:12.501301Z",
     "end_time": "2023-04-03T14:22:12.603293Z"
    }
   }
  },
  {
   "cell_type": "markdown",
   "source": [
    "## 2. Utils"
   ],
   "metadata": {
    "collapsed": false
   }
  },
  {
   "cell_type": "code",
   "execution_count": 90,
   "outputs": [],
   "source": [
    "def draw(graph, ax):\n",
    "    \"\"\"\n",
    "    Draws the graph as a matplotlib plot.\n",
    "    Depots are colored in red. Edges that have been\n",
    "    traveresed\n",
    "    \"\"\"\n",
    "\n",
    "    # draw nodes according to color and position attribute\n",
    "    pos = nx.get_node_attributes(graph, \"coordinates\")\n",
    "    nx.draw_networkx_nodes(\n",
    "        graph, pos, ax=ax, node_size=100\n",
    "    )\n",
    "    labels_pos = {k: (v + np.array([0, 0.03])) for k, v in pos.items()}\n",
    "    nx.draw_networkx_labels(\n",
    "        graph, labels_pos, ax=ax\n",
    "    )\n",
    "\n",
    "    # draw edges\n",
    "    nx.draw_networkx_edges(graph, pos)"
   ],
   "metadata": {
    "collapsed": false,
    "ExecuteTime": {
     "start_time": "2023-04-03T14:22:12.521679Z",
     "end_time": "2023-04-03T14:22:12.820361Z"
    }
   }
  },
  {
   "cell_type": "markdown",
   "source": [
    "## 3. Generating Distance Matrices"
   ],
   "metadata": {
    "collapsed": false
   }
  },
  {
   "cell_type": "code",
   "execution_count": 91,
   "outputs": [
    {
     "name": "stdout",
     "output_type": "stream",
     "text": [
      "100\n"
     ]
    }
   ],
   "source": [
    "def build_graph(num_nodes):\n",
    "    G = nx.watts_strogatz_graph(num_nodes, 4, 0.1)\n",
    "    node_position = {\n",
    "        i: coordinates for i, coordinates in enumerate(np.random.rand(num_nodes, 2))\n",
    "    }\n",
    "    nx.set_node_attributes(G, node_position, \"coordinates\")\n",
    "\n",
    "    positions = np.array([node_position[index] for index in range(num_nodes)])\n",
    "    distances = cdist(positions, positions)\n",
    "\n",
    "    edges = []\n",
    "    for (u,v,w) in G.edges(data=True):\n",
    "        w['dist'] = distances[u,v]\n",
    "\n",
    "    # add distance as edge attribute\n",
    "    edge_distance_feature = {(u,v):distances[u,v] for u in range(num_nodes) for v in range(num_nodes) if u != v}\n",
    "    nx.set_edge_attributes(G, edge_distance_feature, 'dist')\n",
    "    return G, distances\n",
    "\n",
    "G, distances = build_graph(50)\n",
    "print(G.number_of_edges())"
   ],
   "metadata": {
    "collapsed": false,
    "ExecuteTime": {
     "start_time": "2023-04-03T14:22:12.666474Z",
     "end_time": "2023-04-03T14:22:12.862527Z"
    }
   }
  },
  {
   "cell_type": "markdown",
   "source": [
    "## 4. Generate dataset"
   ],
   "metadata": {
    "collapsed": false
   }
  },
  {
   "cell_type": "code",
   "execution_count": 92,
   "outputs": [],
   "source": [
    "def get_route_length(route, dist_mat):\n",
    "    \"\"\"\n",
    "    Returns the length of the routes\n",
    "    \"\"\"\n",
    "    length = 0\n",
    "    for i in range(len(route)-1):\n",
    "        length += dist_mat[route[i], route[i+1]]\n",
    "    return length\n",
    "\n",
    "def build_dataset(size, num_nodes):\n",
    "    graphs = []\n",
    "    targets = []\n",
    "    opts = []\n",
    "    for i in range(size):\n",
    "        if i % 10000 == 0:\n",
    "            print(f'Building graph {i}/{size}')\n",
    "        graph, dist_mat = build_graph(num_nodes)\n",
    "        graph_pyg = from_networkx(graph, group_node_attrs=['coordinates'], group_edge_attrs=['dist'])\n",
    "        pair_nodes = list(iter.combinations(range(num_nodes), 2))[random.randint(0, (num_nodes*(num_nodes-1)/2)-1)]\n",
    "        opt_routes = nx.shortest_path(graph, weight='dist', source=pair_nodes[0], target=pair_nodes[1])\n",
    "        opt_length = get_route_length(opt_routes, dist_mat)\n",
    "\n",
    "\n",
    "        # Assign optimum length\n",
    "        graph_pyg.y = opt_length\n",
    "\n",
    "        # Saving\n",
    "        graphs.append(graph_pyg)\n",
    "        targets.append(opt_routes)\n",
    "        opts.append(opt_length)\n",
    "    return graphs, targets, opts"
   ],
   "metadata": {
    "collapsed": false,
    "ExecuteTime": {
     "start_time": "2023-04-03T14:22:12.780837Z",
     "end_time": "2023-04-03T14:22:12.971034Z"
    }
   }
  },
  {
   "cell_type": "code",
   "execution_count": 93,
   "outputs": [
    {
     "name": "stdout",
     "output_type": "stream",
     "text": [
      "Building graph 0/50000\n",
      "Building graph 10000/50000\n",
      "Building graph 20000/50000\n",
      "Building graph 30000/50000\n",
      "Building graph 40000/50000\n"
     ]
    }
   ],
   "source": [
    "data_20_train = build_dataset(50000,20)\n",
    "with open('PATH_dataset_20_train.pkl', 'wb') as file:\n",
    "    pickle.dump(data_20_train, file)"
   ],
   "metadata": {
    "collapsed": false,
    "ExecuteTime": {
     "start_time": "2023-04-03T14:22:12.889702Z",
     "end_time": "2023-04-03T14:26:23.786301Z"
    }
   }
  },
  {
   "cell_type": "code",
   "execution_count": 94,
   "outputs": [
    {
     "name": "stdout",
     "output_type": "stream",
     "text": [
      "Building graph 0/100\n"
     ]
    }
   ],
   "source": [
    "data_20_test = build_dataset(100,20)\n",
    "with open('PATH_dataset_20_test.pkl', 'wb') as file:\n",
    "    pickle.dump(data_20_test, file)"
   ],
   "metadata": {
    "collapsed": false,
    "ExecuteTime": {
     "start_time": "2023-04-03T14:26:23.789744Z",
     "end_time": "2023-04-03T14:26:24.372271Z"
    }
   }
  },
  {
   "cell_type": "code",
   "execution_count": 95,
   "outputs": [
    {
     "name": "stdout",
     "output_type": "stream",
     "text": [
      "Building graph 0/10000\n"
     ]
    }
   ],
   "source": [
    "data_50_train = build_dataset(10000,50)\n",
    "with open('PATH_dataset_50_train.pkl', 'wb') as file:\n",
    "    pickle.dump(data_50_train, file)"
   ],
   "metadata": {
    "collapsed": false,
    "ExecuteTime": {
     "start_time": "2023-04-03T14:26:24.376689Z",
     "end_time": "2023-04-03T14:28:55.901230Z"
    }
   }
  },
  {
   "cell_type": "code",
   "execution_count": 96,
   "outputs": [
    {
     "name": "stdout",
     "output_type": "stream",
     "text": [
      "Building graph 0/100\n"
     ]
    }
   ],
   "source": [
    " data_50_test = build_dataset(100,50)\n",
    "with open('PATH_dataset_50_test.pkl', 'wb') as file:\n",
    "    pickle.dump(data_50_test, file)"
   ],
   "metadata": {
    "collapsed": false,
    "ExecuteTime": {
     "start_time": "2023-04-03T14:28:55.943641Z",
     "end_time": "2023-04-03T14:28:57.389682Z"
    }
   }
  },
  {
   "cell_type": "code",
   "execution_count": 96,
   "outputs": [],
   "source": [],
   "metadata": {
    "collapsed": false,
    "ExecuteTime": {
     "start_time": "2023-04-03T14:28:57.391441Z",
     "end_time": "2023-04-03T14:28:57.394208Z"
    }
   }
  }
 ],
 "metadata": {
  "kernelspec": {
   "display_name": "Python 3",
   "language": "python",
   "name": "python3"
  },
  "language_info": {
   "codemirror_mode": {
    "name": "ipython",
    "version": 2
   },
   "file_extension": ".py",
   "mimetype": "text/x-python",
   "name": "python",
   "nbconvert_exporter": "python",
   "pygments_lexer": "ipython2",
   "version": "2.7.6"
  }
 },
 "nbformat": 4,
 "nbformat_minor": 0
}
